{
 "cells": [
  {
   "cell_type": "code",
   "execution_count": null,
   "metadata": {},
   "outputs": [],
   "source": [
    "import numpy as np\n",
    "\n",
    "n = int(input(\"Ingrese el numero de matrices a trabajar: \"))\n",
    "A = np.random.rand(n,n)\n",
    "B = np.random.rand(n,)\n",
    "\n",
    "alpha = 3 * n\n",
    "ADD = np.dot(A,A.T) + alpha*np.identity(n)\n",
    "A = ADD"
   ]
  },
  {
   "cell_type": "code",
   "execution_count": 4,
   "metadata": {},
   "outputs": [
    {
     "name": "stdout",
     "output_type": "stream",
     "text": [
      "[[13.71481624  1.04172903  1.47234584  0.75227708]\n",
      " [ 1.04172903 12.69974321  0.92203088  0.3817862 ]\n",
      " [ 1.47234584  0.92203088 13.49328647  0.67356783]\n",
      " [ 0.75227708  0.3817862   0.67356783 12.44660835]]\n",
      "\n",
      "[0.91167139 0.33246493 0.92928579 0.09785158]\n"
     ]
    }
   ],
   "source": [
    "print(A)\n",
    "print(\"\")\n",
    "print(B)"
   ]
  },
  {
   "cell_type": "code",
   "execution_count": null,
   "metadata": {},
   "outputs": [],
   "source": [
    "n = len(B)\n",
    "count = 0\n",
    "\n",
    "for i in range(n):\n",
    "    Aii = A[i][i]\n",
    "    suma = 0\n",
    "\n",
    "    for j in range(n):\n",
    "        if i"
   ]
  }
 ],
 "metadata": {
  "interpreter": {
   "hash": "253137caf07aa88084339d03004471e3ca5786e7473740d715f2861803328686"
  },
  "kernelspec": {
   "display_name": "Python 3.10.2 64-bit",
   "language": "python",
   "name": "python3"
  },
  "language_info": {
   "codemirror_mode": {
    "name": "ipython",
    "version": 3
   },
   "file_extension": ".py",
   "mimetype": "text/x-python",
   "name": "python",
   "nbconvert_exporter": "python",
   "pygments_lexer": "ipython3",
   "version": "3.10.2"
  },
  "orig_nbformat": 4
 },
 "nbformat": 4,
 "nbformat_minor": 2
}
